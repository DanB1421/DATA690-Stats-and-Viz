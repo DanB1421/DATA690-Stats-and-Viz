{
  "cells": [
    {
      "cell_type": "markdown",
      "metadata": {
        "id": "view-in-github",
        "colab_type": "text"
      },
      "source": [
        "<a href=\"https://colab.research.google.com/github/DanB1421/DanB1421/blob/main/Brilliant_HW_1.ipynb\" target=\"_parent\"><img src=\"https://colab.research.google.com/assets/colab-badge.svg\" alt=\"Open In Colab\"/></a>"
      ]
    },
    {
      "cell_type": "markdown",
      "id": "8a5adb20",
      "metadata": {
        "id": "8a5adb20"
      },
      "source": [
        "## DATA 601 - Fall 2022\n",
        "### Homework Assignment 1\n",
        "Total points : (30 + 10)<br>\n",
        " Please provide your solutions into the cells provided after question cells. You can create new cells as needed. <br>\n",
        "\n",
        "Please return your notebook (by uploading as a *.ipynb file) via Blackboard. The name of your notebook should be in the following format: YourLastname_HW01.ipynb (e.g. Borle_HW01.ipyn).\n",
        "\n",
        "Make sure that your code is in a working condition when you restart the kernel. Notebooks are great tools for exploration but we should be very careful as we are writing codes.\n",
        "\n",
        "<b>Intro:</b> For this homework, you will install a module called \"names\". Please visit [https://pypi.org/project/names/](https://pypi.org/project/names/) to learn how to use this module to create random names. To install and import this \"names\" module, we do the following"
      ]
    },
    {
      "cell_type": "code",
      "execution_count": null,
      "id": "6acf8f0c",
      "metadata": {
        "colab": {
          "base_uri": "https://localhost:8080/"
        },
        "id": "6acf8f0c",
        "outputId": "6dd814a3-6c28-4998-a257-b1f5049357ba"
      },
      "outputs": [
        {
          "output_type": "stream",
          "name": "stdout",
          "text": [
            "Looking in indexes: https://pypi.org/simple, https://us-python.pkg.dev/colab-wheels/public/simple/\n",
            "Collecting names\n",
            "  Downloading names-0.3.0.tar.gz (789 kB)\n",
            "\u001b[K     |████████████████████████████████| 789 kB 7.8 MB/s \n",
            "\u001b[?25hBuilding wheels for collected packages: names\n",
            "  Building wheel for names (setup.py) ... \u001b[?25l\u001b[?25hdone\n",
            "  Created wheel for names: filename=names-0.3.0-py3-none-any.whl size=803699 sha256=f3a03bac96c1a0e3d17abf821968b3e1da5deb34773ee03d6dc091efe9421970\n",
            "  Stored in directory: /root/.cache/pip/wheels/05/ea/68/92f6b0669e478af9b7c3c524520d03050089e034edcc775c2b\n",
            "Successfully built names\n",
            "Installing collected packages: names\n",
            "Successfully installed names-0.3.0\n"
          ]
        }
      ],
      "source": [
        "!pip install names"
      ]
    },
    {
      "cell_type": "markdown",
      "id": "696635cf",
      "metadata": {
        "id": "696635cf"
      },
      "source": [
        "Q1. [<span style=\"color: red;\">10 points</span>] After successful installation, import the module first, then use the \"get_first_name\" function in the \"names\" module and create a list of 10 first-names. Name of this list should be \"fname\". Similarly, use  the \"get_last_name\" function from the same module and create a list of 10 last-names (list name should be \"lname\").\n",
        "- (i) Print your list and make sure that you indeed have 10 names in your lists.\n",
        "- (ii) Remove the first \"last-name\" from your \"lname\" list.\n",
        "- (ii) Insert a new last-name between the second-last and last items in the \"lname\" list.\n",
        "- (iv) Add a first-name to the end of \"fname\" and remove the first item in the same list.\n",
        "- (v)  Generate three random first names, print them, and then add three first names at the end of your \"fname\" list using the \"append\" command."
      ]
    },
    {
      "cell_type": "code",
      "execution_count": null,
      "id": "29f30432",
      "metadata": {
        "id": "29f30432"
      },
      "outputs": [],
      "source": [
        "# Your answers go here\n",
        "import names"
      ]
    },
    {
      "cell_type": "code",
      "source": [
        "fname = []\n",
        "\n",
        "for i in range(10):\n",
        "    firstname = names.get_first_name()\n",
        "    fname.append(firstname)\n",
        "\n",
        "print(fname)"
      ],
      "metadata": {
        "colab": {
          "base_uri": "https://localhost:8080/"
        },
        "id": "GLw2KArOmrLo",
        "outputId": "8e9dfe12-fcb0-4232-df50-2ab715d653e1"
      },
      "id": "GLw2KArOmrLo",
      "execution_count": null,
      "outputs": [
        {
          "output_type": "stream",
          "name": "stdout",
          "text": [
            "['Willie', 'Michael', 'Gary', 'Margaret', 'Raymond', 'Nancy', 'Charlie', 'Casandra', 'Helen', 'Arleen']\n"
          ]
        }
      ]
    },
    {
      "cell_type": "code",
      "source": [
        "lname = []\n",
        "\n",
        "for i in range(10):\n",
        "    lastname = names.get_last_name()\n",
        "    lname.append(lastname)\n",
        "\n",
        "print(lname)"
      ],
      "metadata": {
        "colab": {
          "base_uri": "https://localhost:8080/"
        },
        "id": "sj0LF2_mtBoe",
        "outputId": "660b0540-83e2-4c41-96dc-bd02bb49b5be"
      },
      "id": "sj0LF2_mtBoe",
      "execution_count": null,
      "outputs": [
        {
          "output_type": "stream",
          "name": "stdout",
          "text": [
            "['Tobey', 'Rudzik', 'Griffie', 'Mahoney', 'Irizarry', 'Williams', 'Warren', 'Janssen', 'Willoughby', 'Boyer']\n"
          ]
        }
      ]
    },
    {
      "cell_type": "code",
      "source": [
        "lname.pop(0)\n",
        "print(lname)"
      ],
      "metadata": {
        "colab": {
          "base_uri": "https://localhost:8080/"
        },
        "id": "1LN3i6IGvSjC",
        "outputId": "7176e0b7-a490-4d29-8cb3-ddcb8cd28140"
      },
      "id": "1LN3i6IGvSjC",
      "execution_count": null,
      "outputs": [
        {
          "output_type": "stream",
          "name": "stdout",
          "text": [
            "['Rudzik', 'Griffie', 'Mahoney', 'Irizarry', 'Williams', 'Warren', 'Janssen', 'Willoughby', 'Boyer']\n"
          ]
        }
      ]
    },
    {
      "cell_type": "code",
      "source": [
        "lname.insert(8, names.get_last_name())\n",
        "print(lname)"
      ],
      "metadata": {
        "colab": {
          "base_uri": "https://localhost:8080/"
        },
        "id": "9E-yksXSv0zQ",
        "outputId": "952f5ab5-25a9-475e-a682-edc1cd7a173d"
      },
      "id": "9E-yksXSv0zQ",
      "execution_count": null,
      "outputs": [
        {
          "output_type": "stream",
          "name": "stdout",
          "text": [
            "['Rudzik', 'Griffie', 'Mahoney', 'Irizarry', 'Williams', 'Warren', 'Janssen', 'Willoughby', 'Sawyer', 'Boyer']\n"
          ]
        }
      ]
    },
    {
      "cell_type": "code",
      "source": [
        "fname.insert(10, names.get_first_name())\n",
        "fname.pop(0)\n",
        "print(fname)"
      ],
      "metadata": {
        "colab": {
          "base_uri": "https://localhost:8080/"
        },
        "id": "ysx3V9xkwYoo",
        "outputId": "a156bbdd-5618-478b-ae71-0ef8cb56dfb3"
      },
      "id": "ysx3V9xkwYoo",
      "execution_count": null,
      "outputs": [
        {
          "output_type": "stream",
          "name": "stdout",
          "text": [
            "['Michael', 'Gary', 'Margaret', 'Raymond', 'Nancy', 'Charlie', 'Casandra', 'Helen', 'Arleen', 'Jean']\n"
          ]
        }
      ]
    },
    {
      "cell_type": "code",
      "source": [
        "fname_2 = names.get_first_name()\n",
        "fname_3 = names.get_first_name()\n",
        "fname_4 = names.get_first_name()\n",
        "\n",
        "print(fname_2)\n",
        "print(fname_3)\n",
        "print(fname_4)\n",
        "\n",
        "fname.append(fname_2)\n",
        "fname.append(fname_3)\n",
        "fname.append(fname_4)\n",
        "\n",
        "print(fname)"
      ],
      "metadata": {
        "colab": {
          "base_uri": "https://localhost:8080/"
        },
        "id": "8LgefLJ-xYZN",
        "outputId": "48971de1-1fce-4ce4-8b06-3cf8a0bd319b"
      },
      "id": "8LgefLJ-xYZN",
      "execution_count": null,
      "outputs": [
        {
          "output_type": "stream",
          "name": "stdout",
          "text": [
            "Kimberly\n",
            "Carrie\n",
            "Daryl\n",
            "['Michael', 'Gary', 'Margaret', 'Raymond', 'Nancy', 'Charlie', 'Casandra', 'Helen', 'Arleen', 'Jean', 'Kimberly', 'Carrie', 'Daryl']\n"
          ]
        }
      ]
    },
    {
      "cell_type": "markdown",
      "id": "8903c41e",
      "metadata": {
        "id": "8903c41e"
      },
      "source": [
        "Q2. [<span style=\"color: red;\">10 points</span>] Below is a nested list."
      ]
    },
    {
      "cell_type": "code",
      "execution_count": null,
      "id": "2a426844",
      "metadata": {
        "id": "2a426844"
      },
      "outputs": [],
      "source": [
        "my_list = [\"Adam\",\"Sam\",\"Maddy\",[\"Joel\",\"Adam\",\"Harvey\",\"Adam\"],\"James\",\"Adam\",[\"Jordan\",\"Nico\",[\"Adam\",\"Valtteri\",\"Oscar\",\"James\"]]]"
      ]
    },
    {
      "cell_type": "markdown",
      "id": "10ced87c",
      "metadata": {
        "id": "10ced87c"
      },
      "source": [
        "Write code to find out all the times a given name occurs in the above list (including nested lists). For example James occurs twice, once in the main list and once in a nested list. You are allowed to write multiple nested loops. You have the freedom of using various different list methods as you see fit here. <br>\n",
        "Q2 (a) <b>BONUS  SUB-QUESTION</b> [<span style=\"color: red;\">10 points</span>] Return the location (index) of each occurrence of the name, which means it can be a nested location (i.e for Valtteri it would be 6,2,1 or [6][2][1])"
      ]
    },
    {
      "cell_type": "code",
      "execution_count": null,
      "id": "aae505c0",
      "metadata": {
        "id": "aae505c0",
        "colab": {
          "base_uri": "https://localhost:8080/"
        },
        "outputId": "d879d483-d15d-424a-8f31-f2d0393719ed"
      },
      "outputs": [
        {
          "output_type": "stream",
          "name": "stdout",
          "text": [
            "['Adam', 'Sam', 'Maddy', 'Joel', 'Adam', 'Harvey', 'Adam', 'James', 'Adam', 'Jordan', 'Nico', ['Adam', 'Valtteri', 'Oscar', 'James']]\n",
            "['Adam', 'Sam', 'Maddy', 'Joel', 'Adam', 'Harvey', 'Adam', 'James', 'Adam', 'Jordan', 'Nico', 'Adam', 'Valtteri', 'Oscar', 'James']\n"
          ]
        },
        {
          "output_type": "execute_result",
          "data": {
            "text/plain": [
              "5"
            ]
          },
          "metadata": {},
          "execution_count": 10
        }
      ],
      "source": [
        "# Your answers go here\n",
        "flat_list = []\n",
        "\n",
        "for item in my_list:\n",
        "    if 'list' in str(type(item)):\n",
        "        for name in item:\n",
        "            flat_list.append(name)\n",
        "    else:\n",
        "        flat_list.append(item)\n",
        "\n",
        "print(flat_list)\n",
        "\n",
        "flatter_list = []\n",
        "\n",
        "for item in flat_list:\n",
        "    if 'list' in str(type(item)):\n",
        "        for name in item:\n",
        "            flatter_list.append(name)\n",
        "    else:\n",
        "        flatter_list.append(item)\n",
        "\n",
        "print(flatter_list)\n",
        "\n",
        "flatter_list.count('Adam')"
      ]
    },
    {
      "cell_type": "code",
      "source": [
        "indices = []\n",
        "\n",
        "for i in range(len(my_list)):\n",
        "    if my_list[i]==\"Adam\":\n",
        "        indices.append(i)\n",
        "\n",
        "for i in range(len(my_list)):\n",
        "    for j in range(len(my_list[i])):\n",
        "        if my_list[i][j]==\"Adam\":\n",
        "            indices.append([i,j])\n",
        "\n",
        "for i in range(len(my_list)):\n",
        "    for j in range(len(my_list[i])):\n",
        "        for k in range(len(my_list[i][j])):\n",
        "            if my_list[i][j][k]==\"Adam\":\n",
        "                indices.append([i,j,k])\n",
        "\n",
        "print(indices)"
      ],
      "metadata": {
        "colab": {
          "base_uri": "https://localhost:8080/"
        },
        "id": "87YqGrEWldt7",
        "outputId": "c279c29e-a9e2-4b71-dfd2-10bae7a26fcd"
      },
      "id": "87YqGrEWldt7",
      "execution_count": null,
      "outputs": [
        {
          "output_type": "stream",
          "name": "stdout",
          "text": [
            "[0, 5, [3, 1], [3, 3], [6, 2, 0]]\n"
          ]
        }
      ]
    },
    {
      "cell_type": "markdown",
      "id": "ab252e5a",
      "metadata": {
        "id": "ab252e5a"
      },
      "source": [
        "Q3. [<span style=\"color: red;\">5 points</span>] For this step, you will use the \"<code>randint</code>\" function from the \"<code>random</code>\" module to create random integers. You can learn more about this module at [https://docs.python.org/3/library/random.html](https://docs.python.org/3/library/random.html). To import the \"<code>randint</code>\" function from the \"<code>random</code>\" module, please type <code> from random import randit</code> in a cell, and press shift+enter.\n",
        "\n",
        "Then\n",
        " - (i) Create 10 random birth-years between 1950 and 2021. Name it \"byears\".\n",
        " - (ii) Create 10 random birth-months between 1 and 12. Name it \"bmonths\".\n",
        " - (iii) Create 10 random birth-days between 1 and 31. Name it \"bdays\". Replace the random integer if it is not realistic, according to \"bmonths\" (e.g. February 29, June 31, etc).\n",
        " - (iv) Create 10 random Credit-Scores between 100 and 800. Create a list of \"CreditApproval\" with \"Yes\" if the credit-score is higher than 650, \"No\" otherwise. Make sure that someone can't get a credit if they are 17 years old or younger, even if their credit-score is higher than 650."
      ]
    },
    {
      "cell_type": "code",
      "execution_count": null,
      "id": "46776e35",
      "metadata": {
        "id": "46776e35",
        "colab": {
          "base_uri": "https://localhost:8080/"
        },
        "outputId": "71145f85-2c24-49da-bad5-5f6a81d7f72a"
      },
      "outputs": [
        {
          "output_type": "stream",
          "name": "stdout",
          "text": [
            "[1982, 1963, 1962, 1994, 1951, 1986, 1995, 1977, 1974, 1981]\n"
          ]
        }
      ],
      "source": [
        "# Your answers go here\n",
        "from random import randint\n",
        "\n",
        "byears = []\n",
        "\n",
        "for i in range(0,10):\n",
        "    n = randint(1950, 2021)\n",
        "    byears.append(n)\n",
        "\n",
        "print(byears)"
      ]
    },
    {
      "cell_type": "code",
      "source": [
        "from random import randint\n",
        "\n",
        "bmonths = []\n",
        "\n",
        "for i in range(0,10):\n",
        "    n = randint(1,12)\n",
        "    bmonths.append(n)\n",
        "\n",
        "print(bmonths)"
      ],
      "metadata": {
        "colab": {
          "base_uri": "https://localhost:8080/"
        },
        "id": "Vf7CdbOQyXtL",
        "outputId": "70e75713-8645-4fe3-ec0e-9a42994a7e6a"
      },
      "id": "Vf7CdbOQyXtL",
      "execution_count": null,
      "outputs": [
        {
          "output_type": "stream",
          "name": "stdout",
          "text": [
            "[12, 1, 9, 3, 3, 4, 1, 10, 10, 10]\n"
          ]
        }
      ]
    },
    {
      "cell_type": "code",
      "source": [
        "from random import randint\n",
        "\n",
        "bdays = []\n",
        "\n",
        "for i in range(0,10):\n",
        "    n = randint(1,31)\n",
        "    if bmonths[i] == 4 or bmonths[i] == 6 or bmonths[i] == 9 or bmonths[i] == 11:\n",
        "        if n == 31:\n",
        "            m = randint(1,30)\n",
        "            bdays.append(m)\n",
        "        else:\n",
        "            bdays.append(n)\n",
        "    elif bmonths[i] == 2:\n",
        "        if n > 28:\n",
        "            l = randint(1,28)\n",
        "            bdays.append(l)\n",
        "        else:\n",
        "            bdays.append(n)\n",
        "    else:\n",
        "        bdays.append(n)\n",
        "\n",
        "print(bdays)"
      ],
      "metadata": {
        "colab": {
          "base_uri": "https://localhost:8080/"
        },
        "id": "OMwsEY-QyquE",
        "outputId": "b031c67d-3bfd-459f-bf2d-f17ddadea825"
      },
      "id": "OMwsEY-QyquE",
      "execution_count": null,
      "outputs": [
        {
          "output_type": "stream",
          "name": "stdout",
          "text": [
            "[18, 12, 25, 23, 1, 20, 21, 21, 25, 3]\n"
          ]
        }
      ]
    },
    {
      "cell_type": "code",
      "source": [
        "from random import randint\n",
        "\n",
        "CreditApproval = []\n",
        "\n",
        "for i in range(0,10):\n",
        "    n = randint(100,800)\n",
        "    if n > 650:\n",
        "        if 2022 - byears[i] <= 17:\n",
        "            CreditApproval.append(\"No\")\n",
        "        else:\n",
        "            CreditApproval.append(\"Yes\")\n",
        "    else:\n",
        "        CreditApproval.append(\"No\")\n",
        "\n",
        "print(CreditApproval)"
      ],
      "metadata": {
        "colab": {
          "base_uri": "https://localhost:8080/"
        },
        "id": "vIu34NTKzEkG",
        "outputId": "0fc9b6b0-6c72-4a9e-87be-b6d97260f18a"
      },
      "id": "vIu34NTKzEkG",
      "execution_count": null,
      "outputs": [
        {
          "output_type": "stream",
          "name": "stdout",
          "text": [
            "['No', 'Yes', 'No', 'Yes', 'No', 'No', 'No', 'Yes', 'No', 'No']\n"
          ]
        }
      ]
    },
    {
      "cell_type": "markdown",
      "id": "388226f1",
      "metadata": {
        "id": "388226f1"
      },
      "source": [
        " Q4. [<span style=\"color: red;\">5 points</span>] Create a list of dictionaries called \"ourdb\" for these 10 people with first-name, last-name (again, you will need to use the <code>names</code> module to create random first and last names (again)), birth-year, birth-month, birth-day, CreditApproval (e.g. [fname: Michael, lname: Jackson, byear: 1958, bmonth: 8, bday: 29, creditapproval:yes],[...])<br>\n",
        " Then save \"ourdb\" as a json file."
      ]
    },
    {
      "cell_type": "code",
      "execution_count": null,
      "id": "c15da4de",
      "metadata": {
        "id": "c15da4de",
        "colab": {
          "base_uri": "https://localhost:8080/"
        },
        "outputId": "0cc4a6d7-108c-4dc6-8c60-9539e6ad6fe1"
      },
      "outputs": [
        {
          "output_type": "stream",
          "name": "stdout",
          "text": [
            "['Rose', 'Samantha', 'Janie', 'Jennie', 'Alden', 'Danielle', 'Paul', 'Mary', 'Dalia', 'Edward']\n"
          ]
        }
      ],
      "source": [
        "# Your answers go here\n",
        "\n",
        "first_name = []\n",
        "\n",
        "for i in range(10):\n",
        "    firstname = names.get_first_name()\n",
        "    first_name.append(firstname)\n",
        "\n",
        "print(first_name)"
      ]
    },
    {
      "cell_type": "code",
      "source": [
        "last_name = []\n",
        "\n",
        "for i in range(10):\n",
        "    lastname = names.get_last_name()\n",
        "    last_name.append(lastname)\n",
        "\n",
        "print(last_name)"
      ],
      "metadata": {
        "colab": {
          "base_uri": "https://localhost:8080/"
        },
        "id": "gTeCuJFGIMT9",
        "outputId": "09ad24a4-224e-477e-9f51-228671a3d3ed"
      },
      "id": "gTeCuJFGIMT9",
      "execution_count": null,
      "outputs": [
        {
          "output_type": "stream",
          "name": "stdout",
          "text": [
            "['Sloan', 'Veltman', 'Wheeler', 'Hurley', 'Pittman', 'Farrow', 'Chen', 'Schubert', 'Bello', 'Hughes']\n"
          ]
        }
      ]
    },
    {
      "cell_type": "code",
      "source": [
        "ourdb = []\n",
        "\n",
        "for i in range(0,10):\n",
        "    mydict = {'fname':first_name[i], 'lname':last_name[i], 'byear':byears[i],'bmonth':bmonths[i], 'bday':bdays[i], 'creditapproval':CreditApproval[i]}\n",
        "    ourdb.append(mydict)\n",
        "\n",
        "print(ourdb)"
      ],
      "metadata": {
        "colab": {
          "base_uri": "https://localhost:8080/"
        },
        "id": "DOlM9NJzd-pn",
        "outputId": "d20a87fe-17e7-45bd-8209-92c298febbb2"
      },
      "id": "DOlM9NJzd-pn",
      "execution_count": null,
      "outputs": [
        {
          "output_type": "stream",
          "name": "stdout",
          "text": [
            "[{'fname': 'Rose', 'lname': 'Sloan', 'byear': 1982, 'bmonth': 12, 'bday': 18, 'creditapproval': 'No'}, {'fname': 'Samantha', 'lname': 'Veltman', 'byear': 1963, 'bmonth': 1, 'bday': 12, 'creditapproval': 'Yes'}, {'fname': 'Janie', 'lname': 'Wheeler', 'byear': 1962, 'bmonth': 9, 'bday': 25, 'creditapproval': 'No'}, {'fname': 'Jennie', 'lname': 'Hurley', 'byear': 1994, 'bmonth': 3, 'bday': 23, 'creditapproval': 'Yes'}, {'fname': 'Alden', 'lname': 'Pittman', 'byear': 1951, 'bmonth': 3, 'bday': 1, 'creditapproval': 'No'}, {'fname': 'Danielle', 'lname': 'Farrow', 'byear': 1986, 'bmonth': 4, 'bday': 20, 'creditapproval': 'No'}, {'fname': 'Paul', 'lname': 'Chen', 'byear': 1995, 'bmonth': 1, 'bday': 21, 'creditapproval': 'No'}, {'fname': 'Mary', 'lname': 'Schubert', 'byear': 1977, 'bmonth': 10, 'bday': 21, 'creditapproval': 'Yes'}, {'fname': 'Dalia', 'lname': 'Bello', 'byear': 1974, 'bmonth': 10, 'bday': 25, 'creditapproval': 'No'}, {'fname': 'Edward', 'lname': 'Hughes', 'byear': 1981, 'bmonth': 10, 'bday': 3, 'creditapproval': 'No'}]\n"
          ]
        }
      ]
    },
    {
      "cell_type": "code",
      "source": [
        "import json\n",
        "\n",
        "with open('ourdb.json', 'w') as fp:\n",
        "    json.dump(ourdb, fp)"
      ],
      "metadata": {
        "id": "vKtH_gu4k5HO"
      },
      "id": "vKtH_gu4k5HO",
      "execution_count": null,
      "outputs": []
    }
  ],
  "metadata": {
    "kernelspec": {
      "display_name": "fall22_601",
      "language": "python",
      "name": "fall22_601"
    },
    "language_info": {
      "codemirror_mode": {
        "name": "ipython",
        "version": 3
      },
      "file_extension": ".py",
      "mimetype": "text/x-python",
      "name": "python",
      "nbconvert_exporter": "python",
      "pygments_lexer": "ipython3",
      "version": "3.10.4"
    },
    "colab": {
      "provenance": [],
      "include_colab_link": true
    }
  },
  "nbformat": 4,
  "nbformat_minor": 5
}